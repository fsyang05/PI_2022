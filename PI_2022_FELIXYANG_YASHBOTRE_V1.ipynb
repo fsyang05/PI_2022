{
 "cells": [
  {
   "cell_type": "code",
   "execution_count": 6,
   "metadata": {},
   "outputs": [],
   "source": [
    "import requests\n",
    "import finnhub\n",
    "import json\n",
    "import numpy as np\n",
    "import pandas as pd\n",
    "import matplotlib.pyplot as plt\n",
    "from sklearn.linear_model import LinearRegression"
   ]
  },
  {
   "cell_type": "code",
   "execution_count": 7,
   "metadata": {},
   "outputs": [
    {
     "name": "stdout",
     "output_type": "stream",
     "text": [
      "200\n"
     ]
    }
   ],
   "source": [
    "# importing API, testing connection; 200 = connected\n",
    "\n",
    "symbol = \"\"\n",
    "\n",
    "base_url = \"https://finnhub.io/api/v1/add?token=c8qc4m2ad3ienapjidfg\"\n",
    "response_API = requests.get(base_url)\n",
    "print(response_API.status_code)"
   ]
  },
  {
   "cell_type": "code",
   "execution_count": null,
   "metadata": {},
   "outputs": [],
   "source": [
    "# need to accept user input for name, amount of data to search\n",
    "# user input to search API database\n",
    "# linear regression, train/confirmation data = ?\n",
    "# return accuracy, std, recommendation for buy/sell/hold?\n",
    "# projected profit?"
   ]
  },
  {
   "cell_type": "code",
   "execution_count": 9,
   "metadata": {},
   "outputs": [
    {
     "name": "stdout",
     "output_type": "stream",
     "text": [
      "{'count': 32, 'result': [{'description': 'APPLE INC', 'displaySymbol': 'AAPL', 'symbol': 'AAPL', 'type': 'Common Stock'}, {'description': 'LS 1X AAPL', 'displaySymbol': 'AAPL.L', 'symbol': 'AAPL.L', 'type': 'ETP'}, {'description': 'LS 1X AAPL', 'displaySymbol': 'AAPL.AS', 'symbol': 'AAPL.AS', 'type': 'ETP'}, {'description': 'APPLE INC', 'displaySymbol': 'AAPL.BC', 'symbol': 'AAPL.BC', 'type': 'Common Stock'}, {'description': 'APPLE INC', 'displaySymbol': 'AAPL.SW', 'symbol': 'AAPL.SW', 'type': 'Common Stock'}, {'description': 'APPLE INC', 'displaySymbol': 'AAPL.MX', 'symbol': 'AAPL.MX', 'type': 'Common Stock'}, {'description': 'APPLE INC-CDR', 'displaySymbol': 'AAPL.NE', 'symbol': 'AAPL.NE', 'type': 'Receipt'}, {'description': 'APPLE INC', 'displaySymbol': 'AAPL.VI', 'symbol': 'AAPL.VI', 'type': 'Common Stock'}, {'description': 'APPLE INC', 'displaySymbol': 'AAPL.SN', 'symbol': 'AAPL.SN', 'type': 'Common Stock'}, {'description': 'APPLE INC', 'displaySymbol': 'AAPL.MI', 'symbol': 'AAPL.MI', 'type': 'Common Stock'}, {'description': 'AA PLC', 'displaySymbol': 'AATDF', 'symbol': 'AATDF', 'type': 'Common Stock'}, {'description': 'Aviva Plc', 'displaySymbol': 'A2RT8J.MU', 'symbol': 'A2RT8J.MU', 'type': ''}, {'description': 'Gaz Capital', 'displaySymbol': 'A19X59.HM', 'symbol': 'A19X59.HM', 'type': ''}, {'description': 'Aviva Plc', 'displaySymbol': 'GU8G.BE', 'symbol': 'GU8G.BE', 'type': ''}, {'description': 'Aviva Plc', 'displaySymbol': 'A1HNBA.MU', 'symbol': 'A1HNBA.MU', 'type': ''}, {'description': 'Aviva Plc', 'displaySymbol': 'GU8G.DU', 'symbol': 'GU8G.DU', 'type': ''}, {'description': 'Gaz Capital', 'displaySymbol': 'A1HFY3.DU', 'symbol': 'A1HFY3.DU', 'type': ''}, {'description': 'Aviva Plc', 'displaySymbol': 'GU8G.MU', 'symbol': 'GU8G.MU', 'type': ''}, {'description': 'Aviva Plc', 'displaySymbol': 'A28X36.DU', 'symbol': 'A28X36.DU', 'type': ''}, {'description': 'Aviva Plc', 'displaySymbol': 'A2RT8J.BE', 'symbol': 'A2RT8J.BE', 'type': ''}, {'description': 'Gaz Capital', 'displaySymbol': 'GZCF.HM', 'symbol': 'GZCF.HM', 'type': ''}, {'description': 'Gaz Capital', 'displaySymbol': 'GZCF.MU', 'symbol': 'GZCF.MU', 'type': ''}, {'description': 'Gaz Capital', 'displaySymbol': 'A19X59.DU', 'symbol': 'A19X59.DU', 'type': ''}, {'description': 'Aviva Plc', 'displaySymbol': 'A2RT8J.DU', 'symbol': 'A2RT8J.DU', 'type': ''}, {'description': 'Gaz Capital', 'displaySymbol': 'A1HFY3.MU', 'symbol': 'A1HFY3.MU', 'type': ''}, {'description': 'Aviva Plc', 'displaySymbol': 'A1HNBA.DU', 'symbol': 'A1HNBA.DU', 'type': ''}, {'description': 'Gaz Capital', 'displaySymbol': 'A1HFY3.BE', 'symbol': 'A1HFY3.BE', 'type': ''}, {'description': 'Valaris plc', 'displaySymbol': '0A1P.L', 'symbol': '0A1P.L', 'type': ''}, {'description': 'Assura plc', 'displaySymbol': 'A193K2.BE', 'symbol': 'A193K2.BE', 'type': ''}, {'description': 'Gaz Capital', 'displaySymbol': 'GZCF.DU', 'symbol': 'GZCF.DU', 'type': ''}, {'description': 'SAGA PLC', 'displaySymbol': '65J.MU', 'symbol': '65J.MU', 'type': 'Common Stock'}, {'description': 'ALLA PCL', 'displaySymbol': 'ALLA.BK', 'symbol': 'ALLA.BK', 'type': 'Common Stock'}]}\n"
     ]
    }
   ],
   "source": [
    "sym = input(\"Enter stock symbol: \")\n",
    "print(finnhub_client.symbol_lookup(sym))"
   ]
  }
 ],
 "metadata": {
  "interpreter": {
   "hash": "4b5718f6802f5f323de4724e8c0dc2cc617e229315557f11a0ed9d950ccba63a"
  },
  "kernelspec": {
   "display_name": "Python 3.9.7 ('base')",
   "language": "python",
   "name": "python3"
  },
  "language_info": {
   "codemirror_mode": {
    "name": "ipython",
    "version": 3
   },
   "file_extension": ".py",
   "mimetype": "text/x-python",
   "name": "python",
   "nbconvert_exporter": "python",
   "pygments_lexer": "ipython3",
   "version": "3.8.8"
  },
  "orig_nbformat": 4
 },
 "nbformat": 4,
 "nbformat_minor": 2
}
