{
 "cells": [
  {
   "cell_type": "code",
   "execution_count": 4,
   "metadata": {},
   "outputs": [],
   "source": [
    "import requests\n",
    "import finnhub\n",
    "import json\n",
    "import numpy as np\n",
    "import pandas as pd\n",
    "import matplotlib.pyplot as plt\n",
    "from sklearn.linear_model import LinearRegression\n",
    "\n",
    "finnhub_client = finnhub.Client(api_key=\"c8qc4m2ad3ienapjidfg\")"
   ]
  },
  {
   "cell_type": "code",
   "execution_count": 5,
   "metadata": {},
   "outputs": [
    {
     "name": "stdout",
     "output_type": "stream",
     "text": [
      "200\n"
     ]
    }
   ],
   "source": [
    "# importing API, testing connection; 200 = connected\n",
    "\n",
    "base_url = \"https://finnhub.io/api/v1/add?token=c8qc4m2ad3ienapjidfg\"\n",
    "response_API = requests.get(base_url)\n",
    "print(response_API.status_code)"
   ]
  },
  {
   "cell_type": "code",
   "execution_count": null,
   "metadata": {},
   "outputs": [],
   "source": [
    "# need to accept user input for name, amount of data to search\n",
    "# user input to search API database\n",
    "# linear regression, train/confirmation data = ?\n",
    "# return accuracy, std, recommendation for buy/sell/hold?\n",
    "# projected profit?"
   ]
  },
  {
   "cell_type": "code",
   "execution_count": 3,
   "metadata": {},
   "outputs": [],
   "source": [
    "sym = input(\"Enter stock symbol: \")\n",
    "# TO DO: take user input for resolution, UNIX start index, UNIX end index\n",
    "\n",
    "# stocks_candles(symbol, resolution, UNIX start index, UNIX end index)\n",
    "# pseudocode\n",
    "# print(finnhub_client.stocks_candles(sym, resolution, start, end)"
   ]
  }
 ],
 "metadata": {
  "interpreter": {
   "hash": "4b5718f6802f5f323de4724e8c0dc2cc617e229315557f11a0ed9d950ccba63a"
  },
  "kernelspec": {
   "display_name": "Python 3.9.7 ('base')",
   "language": "python",
   "name": "python3"
  },
  "language_info": {
   "codemirror_mode": {
    "name": "ipython",
    "version": 3
   },
   "file_extension": ".py",
   "mimetype": "text/x-python",
   "name": "python",
   "nbconvert_exporter": "python",
   "pygments_lexer": "ipython3",
   "version": "3.8.8"
  },
  "orig_nbformat": 4
 },
 "nbformat": 4,
 "nbformat_minor": 2
}
