{
 "cells": [
  {
   "cell_type": "code",
   "execution_count": 1,
   "metadata": {},
   "outputs": [],
   "source": [
    "import requests\n",
    "import finnhub\n",
    "import json\n",
    "import numpy as np\n",
    "import pandas as pd\n",
    "import matplotlib.pyplot as plt\n",
    "from sklearn.linear_model import LinearRegression\n",
    "from datetime import datetime\n",
    "\n",
    "finnhub_client = finnhub.Client(api_key=\"c8qc4m2ad3ienapjidfg\")"
   ]
  },
  {
   "cell_type": "code",
   "execution_count": 2,
   "metadata": {},
   "outputs": [
    {
     "name": "stdout",
     "output_type": "stream",
     "text": [
      "200\n"
     ]
    }
   ],
   "source": [
    "# importing API, testing connection; 200 = connected\n",
    "\n",
    "base_url = \"https://finnhub.io/api/v1/add?token=c8qc4m2ad3ienapjidfg\"\n",
    "response_API = requests.get(base_url)\n",
    "print(response_API.status_code)"
   ]
  },
  {
   "cell_type": "code",
   "execution_count": null,
   "metadata": {},
   "outputs": [],
   "source": [
    "# need to accept user input for name, amount of data to search\n",
    "# user input to search API database\n",
    "# linear regression, train/confirmation data = ?\n",
    "# return accuracy, std, recommendation for buy/sell/hold?\n",
    "# projected profit?"
   ]
  },
  {
   "cell_type": "code",
   "execution_count": 3,
   "metadata": {},
   "outputs": [],
   "source": [
    "sym = input(\"Enter stock symbol: \")\n",
    "resolution = input(\"Enter D, W, M for resolution: \")\n",
    "year, month, date, hour, minute, second = 0, 0, 0, 0, 0, 0\n",
    "\n",
    "year, month, date, hour, minute, second = input(\"Enter start year, month, date, hour, minute, second: \").split()\n",
    "year = int(year)\n",
    "month = int(month)\n",
    "date = int(date)\n",
    "hour = int(hour)\n",
    "minute = int(minute)\n",
    "second = int(second)\n",
    "\n",
    "dt = datetime(year, month, date, hour, minute, second)\n",
    "dt_timestamp = int(dt.timestamp())\n",
    "\n",
    "year2, month2, date2, hour2, minute2, second2 = input(\"Enter end year, month, date, hour, minute, second: \").split()\n",
    "year2 = int(year2)\n",
    "month2 = int(month2)\n",
    "date2 = int(date2)\n",
    "hour2 = int(hour2)\n",
    "minute2 = int(minute2)\n",
    "second2 = int(second2)\n",
    "\n",
    "dt2 = datetime(year2, month2, date2, hour2, minute2, second2)\n",
    "dt_timestamp2 = int(dt2.timestamp())\n",
    "\n",
    "dataDict = finnhub_client.stock_candles(sym, resolution, dt_timestamp, dt_timestamp2)\n",
    "\n",
    "close = dataDict.get('c')\n",
    "timestamp = dataDict.get('t')\n",
    "\n",
    "x = timestamp\n",
    "y = close"
   ]
  },
  {
   "cell_type": "code",
   "execution_count": null,
   "metadata": {},
   "outputs": [],
   "source": [
    "# To do: linear regression on (t, c)\n",
    "# determine train/confirmation data\n",
    "# method for accuracy, standard deviation, etc.\n",
    "# return ?"
   ]
  },
  {
   "cell_type": "code",
   "execution_count": 6,
   "metadata": {},
   "outputs": [
    {
     "name": "stdout",
     "output_type": "stream",
     "text": [
      "[77.165, 79.7125, 80.3625, 81.3025, 80.0075, 80.3875, 79.9025, 81.8, 81.2175, 81.2375, 79.75, 80.905, 80.075, 78.2625, 74.545, 72.02, 73.1625, 68.38, 68.34, 74.7025, 72.33]\n",
      "[1580688000, 1580774400, 1580860800, 1580947200, 1581033600, 1581292800, 1581379200, 1581465600, 1581552000, 1581638400, 1581984000, 1582070400, 1582156800, 1582243200, 1582502400, 1582588800, 1582675200, 1582761600, 1582848000, 1583107200, 1583193600]\n"
     ]
    }
   ],
   "source": [
    "from sklearn.preprocessing import PolynomialFeatures\n",
    "poly_reg = PolynomialFeatures(degree = 4)\n",
    "x_poly\n",
    "#print(close)\n",
    "#print(timestamp)"
   ]
  }
 ],
 "metadata": {
  "interpreter": {
   "hash": "4b5718f6802f5f323de4724e8c0dc2cc617e229315557f11a0ed9d950ccba63a"
  },
  "kernelspec": {
   "display_name": "Python 3.9.7 ('base')",
   "language": "python",
   "name": "python3"
  },
  "language_info": {
   "codemirror_mode": {
    "name": "ipython",
    "version": 3
   },
   "file_extension": ".py",
   "mimetype": "text/x-python",
   "name": "python",
   "nbconvert_exporter": "python",
   "pygments_lexer": "ipython3",
   "version": "3.9.7"
  },
  "orig_nbformat": 4
 },
 "nbformat": 4,
 "nbformat_minor": 2
}
