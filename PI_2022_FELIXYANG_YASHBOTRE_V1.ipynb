{
 "cells": [
  {
   "cell_type": "code",
   "execution_count": 7,
   "metadata": {},
   "outputs": [],
   "source": [
    "import requests\n",
    "import finnhub\n",
    "import json\n",
    "import numpy as np\n",
    "import pandas as pd\n",
    "import matplotlib.pyplot as plt\n",
    "from sklearn.linear_model import LinearRegression\n",
    "from datetime import datetime\n",
    "\n",
    "finnhub_client = finnhub.Client(api_key=\"c8qc4m2ad3ienapjidfg\")"
   ]
  },
  {
   "cell_type": "code",
   "execution_count": 8,
   "metadata": {},
   "outputs": [
    {
     "name": "stdout",
     "output_type": "stream",
     "text": [
      "200\n"
     ]
    }
   ],
   "source": [
    "# importing API, testing connection; 200 = connected\n",
    "\n",
    "base_url = \"https://finnhub.io/api/v1/add?token=c8qc4m2ad3ienapjidfg\"\n",
    "response_API = requests.get(base_url)\n",
    "print(response_API.status_code)"
   ]
  },
  {
   "cell_type": "code",
   "execution_count": null,
   "metadata": {},
   "outputs": [],
   "source": [
    "# need to accept user input for name, amount of data to search\n",
    "# user input to search API database\n",
    "# linear regression, train/confirmation data = ?\n",
    "# return accuracy, std, recommendation for buy/sell/hold?\n",
    "# projected profit?"
   ]
  },
  {
   "cell_type": "code",
   "execution_count": 23,
   "metadata": {},
   "outputs": [
    {
     "name": "stdout",
     "output_type": "stream",
     "text": [
      "{'c': [29.6575, 29.6625, 29.89, 29.985, 29.7325, 29.93, 30.505, 31.22, 31.615, 31.77, 31.9575, 32.17875, 32.1125, 32.37375, 33.25, 33.0425, 32.1975, 32.60375, 32.115, 32.2725, 32.34], 'h': [29.7925, 29.7725, 30.1275, 30.0575, 30.0625, 29.96, 30.5375, 31.23, 31.87, 31.82, 32.22, 32.195, 32.2575, 32.375, 33.25, 33.4, 32.9, 32.7175, 32.6425, 32.57, 32.38], 'l': [29.02, 29.4025, 29.57725, 29.8125, 29.6125, 29.6075, 30.04, 30.625, 31.3925, 31.4125, 31.73, 31.8625, 32.0825, 32.0125, 32.415, 32.7925, 32.0375, 31.6525, 32.06, 32.075, 32.0225], 'o': [29.5125, 29.625, 29.625, 30.005, 30.005, 29.6375, 30.0425, 30.6925, 31.515, 31.82, 31.8725, 31.90625, 32.12, 32.155, 32.505, 33.235, 32.89, 32.19625, 32.5, 32.3125, 32.24], 's': 'ok', 't': [1422835200, 1422921600, 1423008000, 1423094400, 1423180800, 1423440000, 1423526400, 1423612800, 1423699200, 1423785600, 1424131200, 1424217600, 1424304000, 1424390400, 1424649600, 1424736000, 1424822400, 1424908800, 1424995200, 1425254400, 1425340800], 'v': [250956400, 207662996, 280598972, 168984980, 174826268, 155559188, 248034024, 294247188, 297897864, 217088876, 252609620, 179566948, 149449524, 195793676, 283896440, 276912520, 298846984, 365150116, 248059388, 192386652, 151265132]}\n"
     ]
    }
   ],
   "source": [
    "sym = input(\"Enter stock symbol: \")\n",
    "resolution = input(\"Enter D, W, M for resolution: \")\n",
    "year, month, date, hour, minute, second = 0, 0, 0, 0, 0, 0\n",
    "\n",
    "year, month, date, hour, minute, second = input(\"Enter start year, month, date, hour, minute, second: \").split()\n",
    "year = int(year)\n",
    "month = int(month)\n",
    "date = int(date)\n",
    "hour = int(hour)\n",
    "minute = int(minute)\n",
    "second = int(second)\n",
    "\n",
    "dt = datetime(year, month, date, hour, minute, second)\n",
    "dt_timestamp = int(dt.timestamp())\n",
    "\n",
    "year2, month2, date2, hour2, minute2, second2 = input(\"Enter end year, month, date, hour, minute, second: \").split()\n",
    "year2 = int(year2)\n",
    "month2 = int(month2)\n",
    "date2 = int(date2)\n",
    "hour2 = int(hour2)\n",
    "minute2 = int(minute2)\n",
    "second2 = int(second2)\n",
    "\n",
    "dt2 = datetime(year2, month2, date2, hour2, minute2, second2)\n",
    "dt_timestamp2 = int(dt2.timestamp())\n",
    "\n",
    "dataDict = finnhub_client.stock_candles(sym, resolution, dt_timestamp, dt_timestamp2)\n",
    "\n",
    "close = dataDict.get('c')\n",
    "high = dataDict.get('h')\n",
    "low = dataDict.get('l')\n",
    "open = dataDict.get('o')\n",
    "timestamp = dataDict.get('t')\n",
    "volume = dataDict.get('v')"
   ]
  },
  {
   "cell_type": "code",
   "execution_count": null,
   "metadata": {},
   "outputs": [],
   "source": [
    "# To do: what to run linear regression on (c, h, etc.)\n",
    "# Ask Nick who won stock market challenge\n",
    "# determine train/confirmation data\n",
    "# method for accuracy, standard deviation, etc.\n",
    "# return ?"
   ]
  }
 ],
 "metadata": {
  "interpreter": {
   "hash": "4b5718f6802f5f323de4724e8c0dc2cc617e229315557f11a0ed9d950ccba63a"
  },
  "kernelspec": {
   "display_name": "Python 3.9.7 ('base')",
   "language": "python",
   "name": "python3"
  },
  "language_info": {
   "codemirror_mode": {
    "name": "ipython",
    "version": 3
   },
   "file_extension": ".py",
   "mimetype": "text/x-python",
   "name": "python",
   "nbconvert_exporter": "python",
   "pygments_lexer": "ipython3",
   "version": "3.8.8"
  },
  "orig_nbformat": 4
 },
 "nbformat": 4,
 "nbformat_minor": 2
}
